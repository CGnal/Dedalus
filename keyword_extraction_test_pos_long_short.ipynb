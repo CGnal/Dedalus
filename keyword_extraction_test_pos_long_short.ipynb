{
 "cells": [
  {
   "cell_type": "code",
   "execution_count": 1,
   "metadata": {
    "collapsed": true
   },
   "outputs": [],
   "source": [
    "from glob import glob\n",
    "from bs4 import BeautifulSoup\n",
    "import os\n",
    "import numpy as np; import pandas as pd"
   ]
  },
  {
   "cell_type": "markdown",
   "metadata": {},
   "source": [
    "## PARSING XML FILE\n",
    "### Read DOC filenames"
   ]
  },
  {
   "cell_type": "raw",
   "metadata": {
    "collapsed": false
   },
   "source": [
    "doc_dir_path = \"/Users/cavaste/GoogleDriveCGnal/Projects/Dedalus/100 cda vias/\"\n",
    "filenames = glob(os.path.join(doc_dir_path,'*.ldr'))"
   ]
  },
  {
   "cell_type": "raw",
   "metadata": {
    "collapsed": false
   },
   "source": [
    "soup = BeautifulSoup(open(\"/Users/cavaste/GoogleDriveCGnal/Projects/Dedalus/100 cda vias/table_export_DATA44e8de94-0159-1000-8007-c0a80a0a809c.ldr\"), \"lxml\")\n",
    "pageText = soup.get_text(separator=\" \")\n",
    "docText = pageText.replace(\"\\n\",\" \")\n",
    "docText = docText.replace(\"\\n\",\" \")\n",
    "docText = docText.replace(\"\\r\",\" \")\n",
    "docText = docText.replace(\"\\t\",\" \")\n",
    "docText = docText.replace(\"*\",\" \")\n",
    "docText = docText.replace(\"%\",\" \")\n",
    "docText"
   ]
  },
  {
   "cell_type": "markdown",
   "metadata": {},
   "source": [
    "### parsing all text from each xml "
   ]
  },
  {
   "cell_type": "raw",
   "metadata": {
    "collapsed": false
   },
   "source": [
    "docs = []\n",
    "for fname in filenames:\n",
    "    soup = BeautifulSoup(open(fname), \"lxml\")\n",
    "    pageText = soup.get_text(separator=\" \")\n",
    "    docText = pageText.replace(\"\\n\",\" \")\n",
    "    docText = docText.replace(\"\\n\",\" \")\n",
    "    docText = docText.replace(\"\\r\",\" \")\n",
    "    docText = docText.replace(\"\\t\",\" \")\n",
    "    docText = docText.replace(\"*\",\" \")\n",
    "    docText = docText.replace(\"%\",\" \")\n",
    "    docs.append(docText)"
   ]
  },
  {
   "cell_type": "markdown",
   "metadata": {},
   "source": [
    "## Reading xlsx with text examples"
   ]
  },
  {
   "cell_type": "code",
   "execution_count": 2,
   "metadata": {
    "collapsed": false
   },
   "outputs": [
    {
     "data": {
      "text/html": [
       "<div>\n",
       "<table border=\"1\" class=\"dataframe\">\n",
       "  <thead>\n",
       "    <tr style=\"text-align: right;\">\n",
       "      <th></th>\n",
       "      <th>Filename</th>\n",
       "      <th>ID</th>\n",
       "      <th>Text</th>\n",
       "    </tr>\n",
       "  </thead>\n",
       "  <tbody>\n",
       "    <tr>\n",
       "      <th>0</th>\n",
       "      <td>table_export_DATA44e8cdc0-0159-1000-8001-c0a80...</td>\n",
       "      <td>DH_AC605550710_1500</td>\n",
       "      <td>Primary, Malignant neoplasm of prostate</td>\n",
       "    </tr>\n",
       "    <tr>\n",
       "      <th>1</th>\n",
       "      <td>table_export_DATA44e8cdc0-0159-1000-8001-c0a80...</td>\n",
       "      <td>DH_AC605550710_1527</td>\n",
       "      <td>Secondary, Anemia in chronic kidney disease</td>\n",
       "    </tr>\n",
       "    <tr>\n",
       "      <th>2</th>\n",
       "      <td>table_export_DATA44e8cdc0-0159-1000-8001-c0a80...</td>\n",
       "      <td>DH_AC605550710_1521</td>\n",
       "      <td>Secondary, Iron deficiency anemia, unspecified</td>\n",
       "    </tr>\n",
       "    <tr>\n",
       "      <th>3</th>\n",
       "      <td>table_export_DATA44e8d2c1-0159-1000-8002-c0a80...</td>\n",
       "      <td>DH_MC876686273_17</td>\n",
       "      <td>Primary, Stage II, Malignant neoplasm of recto...</td>\n",
       "    </tr>\n",
       "    <tr>\n",
       "      <th>4</th>\n",
       "      <td>table_export_DATA44e8d4a6-0159-1000-8003-c0a80...</td>\n",
       "      <td>DH_Cb671607614_1393</td>\n",
       "      <td>Primary, Malign Neoplasm Ovarian</td>\n",
       "    </tr>\n",
       "  </tbody>\n",
       "</table>\n",
       "</div>"
      ],
      "text/plain": [
       "                                            Filename                   ID  \\\n",
       "0  table_export_DATA44e8cdc0-0159-1000-8001-c0a80...  DH_AC605550710_1500   \n",
       "1  table_export_DATA44e8cdc0-0159-1000-8001-c0a80...  DH_AC605550710_1527   \n",
       "2  table_export_DATA44e8cdc0-0159-1000-8001-c0a80...  DH_AC605550710_1521   \n",
       "3  table_export_DATA44e8d2c1-0159-1000-8002-c0a80...    DH_MC876686273_17   \n",
       "4  table_export_DATA44e8d4a6-0159-1000-8003-c0a80...  DH_Cb671607614_1393   \n",
       "\n",
       "                                                Text  \n",
       "0            Primary, Malignant neoplasm of prostate  \n",
       "1        Secondary, Anemia in chronic kidney disease  \n",
       "2     Secondary, Iron deficiency anemia, unspecified  \n",
       "3  Primary, Stage II, Malignant neoplasm of recto...  \n",
       "4                   Primary, Malign Neoplasm Ovarian  "
      ]
     },
     "execution_count": 2,
     "metadata": {},
     "output_type": "execute_result"
    }
   ],
   "source": [
    "#df_keys = pd.DataFrame(columns=('filename', 'text', 'keywords'))\n",
    "fname = \"/Users/cavaste/GoogleDriveCGnal/Projects/Dedalus/dedalus_text_sample_used.xlsx\"\n",
    "\n",
    "df_text = pd.read_excel(fname, thousands = ',', parse_cols = 'A:C')\n",
    "df_text.head()"
   ]
  },
  {
   "cell_type": "code",
   "execution_count": 3,
   "metadata": {
    "collapsed": true
   },
   "outputs": [],
   "source": [
    "from sklearn.feature_extraction import stop_words\n",
    "stopwords_ = set(stop_words.ENGLISH_STOP_WORDS)\n",
    "\n",
    "from nltk.corpus import stopwords\n",
    "\n",
    "stopwords_.update(stopwords.words('english'))\n",
    "#stopwords_.update(stopwords.words('italian'))\n",
    "\n",
    "stopwords_.update([\"patient\", \"primary\", \"secondary\"])"
   ]
  },
  {
   "cell_type": "code",
   "execution_count": 4,
   "metadata": {
    "collapsed": true
   },
   "outputs": [],
   "source": [
    "df_text[\"Text\"] = df_text[\"Text\"].apply(lambda x: x.lower())"
   ]
  },
  {
   "cell_type": "markdown",
   "metadata": {},
   "source": [
    "## Threshold for text length"
   ]
  },
  {
   "cell_type": "code",
   "execution_count": 5,
   "metadata": {
    "collapsed": true
   },
   "outputs": [],
   "source": [
    "lengthText_thr = 25\n",
    "groupbyID = \"Filename\"\n",
    "ratio_value = 0.9"
   ]
  },
  {
   "cell_type": "markdown",
   "metadata": {},
   "source": [
    "### Counting the number of words in each text"
   ]
  },
  {
   "cell_type": "code",
   "execution_count": 6,
   "metadata": {
    "collapsed": false
   },
   "outputs": [],
   "source": [
    "df_text.insert(3, \"Word Count\", df_text[\"Text\"].apply(lambda x: len(x.split())))"
   ]
  },
  {
   "cell_type": "markdown",
   "metadata": {},
   "source": [
    "### Selecting short texts"
   ]
  },
  {
   "cell_type": "code",
   "execution_count": 7,
   "metadata": {
    "collapsed": false
   },
   "outputs": [],
   "source": [
    "df_text_short = df_text[df_text[\"Word Count\"] < lengthText_thr].iloc[:,[0,1,2,3]]"
   ]
  },
  {
   "cell_type": "markdown",
   "metadata": {},
   "source": [
    "## 1. POS TAGGING + FILTER \n",
    "### to prepare full text search for drugs and procedures detection"
   ]
  },
  {
   "cell_type": "markdown",
   "metadata": {},
   "source": [
    "### POS tagging"
   ]
  },
  {
   "cell_type": "code",
   "execution_count": 8,
   "metadata": {
    "collapsed": false
   },
   "outputs": [],
   "source": [
    "import nltk\n",
    "df_text.insert(4, \"Pos Tag\", df_text[\"Text\"].apply(lambda x: nltk.pos_tag(nltk.word_tokenize(x))))"
   ]
  },
  {
   "cell_type": "code",
   "execution_count": 9,
   "metadata": {
    "collapsed": true
   },
   "outputs": [],
   "source": [
    "df_text_pos_grouped = df_text.groupby(df_text[groupbyID]).agg(lambda x: x.tolist())"
   ]
  },
  {
   "cell_type": "code",
   "execution_count": 10,
   "metadata": {
    "collapsed": false
   },
   "outputs": [],
   "source": [
    "df_text_pos_grouped[\"Pos Tag\"] = df_text_pos_grouped[\"Pos Tag\"].apply(lambda x: [item for sublist in x for item in sublist])"
   ]
  },
  {
   "cell_type": "code",
   "execution_count": 11,
   "metadata": {
    "collapsed": false
   },
   "outputs": [],
   "source": [
    "pos_filter=['FW','RB','JJ','NN','NNS','NNP','NNPS']\n",
    "df_text_pos_grouped.insert(5, \"Filtered Text\", \n",
    "                    df_text_pos_grouped[\"Pos Tag\"].apply(lambda x: [word[0] for word in x if word[1] in pos_filter and word[1] not in stopwords_]))"
   ]
  },
  {
   "cell_type": "code",
   "execution_count": 12,
   "metadata": {
    "collapsed": false
   },
   "outputs": [
    {
     "data": {
      "text/plain": [
       "[(u'[', 'JJ'),\n",
       " (u'additional', 'JJ'),\n",
       " (u'reason', 'NN'),\n",
       " (u']', 'JJ'),\n",
       " (u'transition', 'NN'),\n",
       " (u'into', 'IN'),\n",
       " (u'care', 'NN'),\n",
       " (u'-', ':'),\n",
       " (u'the', 'DT'),\n",
       " (u'patient', 'NN'),\n",
       " (u'is', 'VBZ'),\n",
       " (u'transitioning', 'VBG'),\n",
       " (u'into', 'IN'),\n",
       " (u'care', 'NN'),\n",
       " (u'and', 'CC'),\n",
       " (u'a', 'DT'),\n",
       " (u'summary', 'NN'),\n",
       " (u'of', 'IN'),\n",
       " (u'care', 'NN'),\n",
       " (u'was', 'VBD'),\n",
       " (u'reviewed', 'VBN'),\n",
       " (u'.', '.'),\n",
       " (u'acute', 'JJ'),\n",
       " (u'abdominal', 'JJ'),\n",
       " (u'pain', 'NN'),\n",
       " (u'chronic', 'JJ'),\n",
       " (u'rlq', 'NN'),\n",
       " (u'pain', 'NN')]"
      ]
     },
     "execution_count": 12,
     "metadata": {},
     "output_type": "execute_result"
    }
   ],
   "source": [
    "df_text_pos_grouped[\"Pos Tag\"].ix[16]"
   ]
  },
  {
   "cell_type": "markdown",
   "metadata": {},
   "source": [
    "## 2. LONG TEXT: KEYWORD EXTRACTION"
   ]
  },
  {
   "cell_type": "markdown",
   "metadata": {},
   "source": [
    "### Selecting long texts"
   ]
  },
  {
   "cell_type": "code",
   "execution_count": 13,
   "metadata": {
    "collapsed": true
   },
   "outputs": [],
   "source": [
    "df_text_long = df_text[df_text[\"Word Count\"] >= lengthText_thr].iloc[:,[0,1,2,3]]"
   ]
  },
  {
   "cell_type": "markdown",
   "metadata": {},
   "source": [
    "### Keyword extraction from each text by using graph"
   ]
  },
  {
   "cell_type": "code",
   "execution_count": 14,
   "metadata": {
    "collapsed": false
   },
   "outputs": [
    {
     "data": {
      "text/plain": [
       "20    hemorrhoids - patient with a long history of h...\n",
       "25    *post-operative - this is a 65-year-old female...\n",
       "51    breast mass, right : follow up by phone in sev...\n",
       "52    breast lump - ms. pruznak is a very pleasant 2...\n",
       "54    follow up - mr herbert presented for a followu...\n",
       "Name: Text, dtype: object"
      ]
     },
     "execution_count": 14,
     "metadata": {},
     "output_type": "execute_result"
    }
   ],
   "source": [
    "df_text_long[\"Text\"].head()"
   ]
  },
  {
   "cell_type": "code",
   "execution_count": 15,
   "metadata": {
    "collapsed": true
   },
   "outputs": [],
   "source": [
    "from gensim.summarization import keywords"
   ]
  },
  {
   "cell_type": "code",
   "execution_count": 16,
   "metadata": {
    "collapsed": false
   },
   "outputs": [],
   "source": [
    "keys_list = []\n",
    "\n",
    "for doc in (df_text_long[\"Text\"]):\n",
    "    keys = keywords(doc,\n",
    "                    WINDOW_SIZE=4,\n",
    "                    split=False,\n",
    "                    ratio=ratio_value,\n",
    "                    scores=True,\n",
    "                    lemmatize=True)\n",
    "#                    pos_filter=['NN','JJ','NNS','NNP','NNPS','FW','RB','CD'])\n",
    "    \n",
    "    keys = [key for key in keys if key[0] not in stopwords_][:30]    \n",
    "    keys_list.append(keys) "
   ]
  },
  {
   "cell_type": "code",
   "execution_count": 17,
   "metadata": {
    "collapsed": false
   },
   "outputs": [],
   "source": [
    "df_text_long.insert(4,\"Keywords\",keys_list)# = [filenames[i], doc, keys] "
   ]
  },
  {
   "cell_type": "code",
   "execution_count": 46,
   "metadata": {
    "collapsed": false
   },
   "outputs": [
    {
     "data": {
      "text/plain": [
       "u'table_export_DATA44e94695-0159-1000-8025-c0a80a0a809c.ldr'"
      ]
     },
     "execution_count": 46,
     "metadata": {},
     "output_type": "execute_result"
    }
   ],
   "source": [
    "df_text_long[\"Filename\"].iloc[6]"
   ]
  },
  {
   "cell_type": "code",
   "execution_count": 48,
   "metadata": {
    "collapsed": false
   },
   "outputs": [
    {
     "data": {
      "text/plain": [
       "([(u'discharged', array([ 0.28319952])),\n",
       "  (u'post', array([ 0.26656862])),\n",
       "  (u'status', array([ 0.25745553])),\n",
       "  (u'fevers shaking', array([ 0.23573585])),\n",
       "  (u'laparoscopic appendectomy', array([ 0.22599174])),\n",
       "  (u'today', array([ 0.22313578])),\n",
       "  (u'female', array([ 0.21825869])),\n",
       "  (u'returned', array([ 0.21318233])),\n",
       "  (u'chills', array([ 0.2075917])),\n",
       "  (u'appetite', array([ 0.2075917])),\n",
       "  (u'wound staples', array([ 0.20588263])),\n",
       "  (u'postoperative interval', array([ 0.17584309])),\n",
       "  (u'normal', array([ 0.1709396])),\n",
       "  (u'year', array([ 0.15816796])),\n",
       "  (u'ready', array([ 0.14946641])),\n",
       "  (u'clinic', array([ 0.14946641]))],\n",
       " u'post-operative - this is a 56-year-old female who is status post laparoscopic appendectomy. she is having now wishes in the postoperative interval. no fevers shaking chills. appetite has returned to normal. today her wound staples were removed and she is ready to be discharged from the clinic.')"
      ]
     },
     "execution_count": 48,
     "metadata": {},
     "output_type": "execute_result"
    }
   ],
   "source": [
    "pippo = 1\n",
    "df_text_long[\"Keywords\"].iloc[6], df_text_long[\"Text\"].iloc[6]"
   ]
  },
  {
   "cell_type": "markdown",
   "metadata": {},
   "source": [
    "## 3. SHORT TEXT: aggregation + keyword extraction"
   ]
  },
  {
   "cell_type": "markdown",
   "metadata": {},
   "source": [
    "### Aggregating short texts"
   ]
  },
  {
   "cell_type": "code",
   "execution_count": 19,
   "metadata": {
    "collapsed": false
   },
   "outputs": [],
   "source": [
    "df_text_short_grouped = df_text_short.groupby(df_text_short[groupbyID]).agg(lambda x: x.tolist())"
   ]
  },
  {
   "cell_type": "code",
   "execution_count": 20,
   "metadata": {
    "collapsed": true
   },
   "outputs": [],
   "source": [
    "df_text_short_grouped.reset_index(inplace = True)"
   ]
  },
  {
   "cell_type": "code",
   "execution_count": 21,
   "metadata": {
    "collapsed": false
   },
   "outputs": [],
   "source": [
    "df_text_short_grouped[\"Text\"] = df_text_short_grouped[\"Text\"].apply(lambda x: '. '.join(x))#.replace(\",\",\"\"))"
   ]
  },
  {
   "cell_type": "code",
   "execution_count": 22,
   "metadata": {
    "collapsed": false
   },
   "outputs": [],
   "source": [
    "keys_list = []\n",
    "\n",
    "for i,doc in enumerate(df_text_short_grouped[\"Text\"]):\n",
    "#    print(i)\n",
    "#    print(doc)\n",
    "    keys = keywords(doc,\n",
    "                    WINDOW_SIZE=4,\n",
    "                    split=False,\n",
    "                    ratio=ratio_value, #ratio_value,\n",
    "                    scores=True,\n",
    "                    lemmatize=True)#,\n",
    "#                    pos_filter=['NN','JJ','NNS','NNP','NNPS'])\n",
    "    \n",
    "    keys = [key for key in keys if key[0] not in stopwords_][:30]    \n",
    "    keys_list.append(keys) \n",
    "    "
   ]
  },
  {
   "cell_type": "code",
   "execution_count": 23,
   "metadata": {
    "collapsed": false
   },
   "outputs": [
    {
     "data": {
      "text/plain": [
       "[[(u'anemia', array([ 0.38715096])),\n",
       "  (u'iron deficiency', array([ 0.30657429])),\n",
       "  (u'disease', array([ 0.28012902])),\n",
       "  (u'prostate', array([ 0.25875068])),\n",
       "  (u'chronic kidney', array([ 0.25507076])),\n",
       "  (u'malignant neoplasm', array([ 0.25178733]))],\n",
       " [(u'malignant neoplasm', array([ 0.51310514])),\n",
       "  (u'stage', array([ 0.39711063])),\n",
       "  (u'junction', array([ 0.28111611]))],\n",
       " [(u'oxycontin', array([ 0.35150152])),\n",
       "  (u'tablet', array([ 0.30324843])),\n",
       "  (u'ovarian', array([ 0.2901983])),\n",
       "  (u'encounter', array([ 0.28181717])),\n",
       "  (u'malign neoplasm', array([ 0.26535609])),\n",
       "  (u'resistant', array([ 0.25573098])),\n",
       "  (u'release', array([ 0.25573098])),\n",
       "  (u'antineoplastic', array([ 0.22576577]))],\n",
       " [(u'unspecified lump', array([ 0.58100055])),\n",
       "  (u'breast', array([ 0.40303642]))],\n",
       " [(u'nodes', array([ 0.42620212])),\n",
       "  (u'unspecified', array([ 0.35715472])),\n",
       "  (u'enlarged lymph', array([ 0.33550346])),\n",
       "  (u'cause', array([ 0.31425331])),\n",
       "  (u'helicobacter pylori', array([ 0.30739328])),\n",
       "  (u'diseases classified', array([ 0.24344824]))],\n",
       " [(u'defect', array([ 0.5])), (u'unspecified', array([ 0.5]))],\n",
       " [(u'unspecified', array([ 0.51210308])),\n",
       "  (u'cerebral infarction', array([ 0.30911733])),\n",
       "  (u'iron deficiency', array([ 0.3087044])),\n",
       "  (u'artery', array([ 0.2837001])),\n",
       "  (u'anemia', array([ 0.23350252])),\n",
       "  (u'stenosis', array([ 0.20395749]))],\n",
       " [(u'thorax', array([ 0.43372033])), (u'contrast', array([ 0.33090627]))],\n",
       " [(u'right main', array([ 0.45510788])),\n",
       "  (u'malignant neoplasm', array([ 0.45510788])),\n",
       "  (u'bronchus', array([ 0.28111611]))],\n",
       " [(u'malignant neoplasm', array([ 0.48067481])),\n",
       "  (u'stage iiib', array([ 0.38546106])),\n",
       "  (u'descending', array([ 0.31505526]))],\n",
       " [(u'unspecified', array([ 0.41839103])),\n",
       "  (u'myelodysplastic syndrome', array([ 0.35193726])),\n",
       "  (u'anemia', array([ 0.33492812])),\n",
       "  (u'thrombocytopenia', array([ 0.2852742])),\n",
       "  (u'chronic', array([ 0.25219664]))],\n",
       " [(u'reason', array([ 0.58100055])),\n",
       "  (u'transition', array([ 0.58100055])),\n",
       "  (u'care', array([ 0.40303642]))],\n",
       " [(u'care', array([ 0.29577778])),\n",
       "  (u'advanced directive', array([ 0.21558039])),\n",
       "  (u'unspecified', array([ 0.21478356])),\n",
       "  (u'internal hemorrhoids', array([ 0.21144811])),\n",
       "  (u'expiration date', array([ 0.21127268])),\n",
       "  (u'effective', array([ 0.21115355])),\n",
       "  (u'transition', array([ 0.20515943])),\n",
       "  (u'health history', array([ 0.19353221])),\n",
       "  (u'banding renamed', array([ 0.19146016])),\n",
       "  (u'reviewed', array([ 0.19114394])),\n",
       "  (u'office today', array([ 0.17967433])),\n",
       "  (u'prn', array([ 0.17876278])),\n",
       "  (u'chose', array([ 0.17767909])),\n",
       "  (u'questionaire', array([ 0.17408479])),\n",
       "  (u'reason', array([ 0.16541888]))],\n",
       " [(u'cuff location', array([ 0.33346295])),\n",
       "  (u'history', array([ 0.31646131])),\n",
       "  (u'patient position', array([ 0.30795197])),\n",
       "  (u'sitting', array([ 0.30542045])),\n",
       "  (u'left arm', array([ 0.26856554])),\n",
       "  (u'past surgical', array([ 0.2491557])),\n",
       "  (u'size', array([ 0.22539012]))],\n",
       " [(u'endoscopic gastrostomy', array([ 0.41062251])),\n",
       "  (u'primary malignant', array([ 0.38462021])),\n",
       "  (u'neoplasm', array([ 0.32621407])),\n",
       "  (u'tail', array([ 0.29676113])),\n",
       "  (u'peg percutaneous', array([ 0.27395979]))],\n",
       " [(u'follow', array([ 0.32553229])),\n",
       "  (u'patient information', array([ 0.26855206])),\n",
       "  (u'effective', array([ 0.20824815])),\n",
       "  (u'health history', array([ 0.1994379])),\n",
       "  (u'unspecified', array([ 0.19929199])),\n",
       "  (u'expiration date', array([ 0.19913199])),\n",
       "  (u'tests', array([ 0.19041941])),\n",
       "  (u'abnormal pap', array([ 0.18704304])),\n",
       "  (u'high', array([ 0.18219659])),\n",
       "  (u'postop check', array([ 0.18107108])),\n",
       "  (u'questionaire', array([ 0.17314211])),\n",
       "  (u'advanced directive', array([ 0.16876077])),\n",
       "  (u'chose', array([ 0.16427405])),\n",
       "  (u'weeks', array([ 0.16324048])),\n",
       "  (u'basics', array([ 0.15109632])),\n",
       "  (u'obstruction', array([ 0.14528458]))],\n",
       " [(u'care', array([ 0.48676756])),\n",
       "  (u'transitioning', array([ 0.35561743])),\n",
       "  (u'pain', array([ 0.31885087])),\n",
       "  (u'acute abdominal', array([ 0.31691232])),\n",
       "  (u'reason', array([ 0.27280632])),\n",
       "  (u'reviewed', array([ 0.26653568])),\n",
       "  (u'chronic rlq', array([ 0.22409781])),\n",
       "  (u'additional', array([ 0.19655594]))],\n",
       " [(u'deficiency nos', array([ 0.3270712])),\n",
       "  (u'vitamin', array([ 0.29431836])),\n",
       "  (u'multiple myeloma', array([ 0.26494482])),\n",
       "  (u'gammopathy', array([ 0.26229833])),\n",
       "  (u'convalescen', array([ 0.23008387]))],\n",
       " [(u'encounter', array([ 0.3631399])),\n",
       "  (u'malign neoplasm', array([ 0.35769893])),\n",
       "  (u'breast', array([ 0.34725663])),\n",
       "  (u'stage', array([ 0.28559618])),\n",
       "  (u'antineoplastic', array([ 0.28559618]))],\n",
       " [(u'essential', array([ 0.5])), (u'thrombocythemia', array([ 0.5]))],\n",
       " [(u'hypopharynx', array([ 0.34527487])),\n",
       "  (u'cancer chemotherapy', array([ 0.26255592])),\n",
       "  (u'unspecified', array([ 0.23900966])),\n",
       "  (u'stage ivb', array([ 0.22042967])),\n",
       "  (u'pharynx', array([ 0.21797799])),\n",
       "  (u'neck', array([ 0.21764176])),\n",
       "  (u'malignant neoplasm', array([ 0.20035521])),\n",
       "  (u'iron deficiency', array([ 0.1922037])),\n",
       "  (u'head', array([ 0.18685313])),\n",
       "  (u'anemia', array([ 0.18007486])),\n",
       "  (u'specified', array([ 0.15294607])),\n",
       "  (u'antineoplastic', array([ 0.15132712])),\n",
       "  (u'encounter', array([ 0.15117412]))],\n",
       " [(u'body', array([ 0.38041915])),\n",
       "  (u'stomach', array([ 0.37472844])),\n",
       "  (u'malignant neoplasm', array([ 0.35343987])),\n",
       "  (u'sulfa sulfonamide', array([ 0.33289117])),\n",
       "  (u'stage', array([ 0.3165144])),\n",
       "  (u'antibiotics', array([ 0.2910539]))],\n",
       " [(u'center lymphoma', array([ 0.32181171])),\n",
       "  (u'intra', array([ 0.31770034])),\n",
       "  (u'encounter', array([ 0.30595897])),\n",
       "  (u'lymph nodes', array([ 0.30152117])),\n",
       "  (u'diffuse follicle', array([ 0.25439991])),\n",
       "  (u'antineoplastic', array([ 0.20622619]))],\n",
       " [(u'copper metabolism', array([ 0.36554323])),\n",
       "  (u'unspecified', array([ 0.35358289])),\n",
       "  (u'chronic persistent', array([ 0.32746593])),\n",
       "  (u'hepatitis', array([ 0.3269675])),\n",
       "  (u'disorder', array([ 0.24543335]))],\n",
       " [(u'oral', array([ 0.514928])),\n",
       "  (u'tablet', array([ 0.43672704])),\n",
       "  (u'historical medication', array([ 0.36458254])),\n",
       "  (u'lamotrigine', array([ 0.29934145])),\n",
       "  (u'metronidazole', array([ 0.29934145])),\n",
       "  (u'hcl', array([ 0.25424165]))],\n",
       " [(u'follow', array([ 0.69876315])),\n",
       "  (u'postoperative visit', array([ 0.46858056]))]]"
      ]
     },
     "execution_count": 23,
     "metadata": {},
     "output_type": "execute_result"
    }
   ],
   "source": [
    "keys_list"
   ]
  },
  {
   "cell_type": "code",
   "execution_count": 24,
   "metadata": {
    "collapsed": false
   },
   "outputs": [],
   "source": [
    "df_text_short_grouped.insert(4,\"Keywords\",keys_list)"
   ]
  },
  {
   "cell_type": "markdown",
   "metadata": {},
   "source": [
    "## merging df with keywords"
   ]
  },
  {
   "cell_type": "code",
   "execution_count": 25,
   "metadata": {
    "collapsed": false
   },
   "outputs": [],
   "source": [
    "df_text_keyword_list = [df_text_short_grouped, df_text_long]\n",
    "df_text_keyword = pd.concat(df_text_keyword_list, ignore_index = True)"
   ]
  },
  {
   "cell_type": "code",
   "execution_count": 26,
   "metadata": {
    "collapsed": false
   },
   "outputs": [
    {
     "data": {
      "text/html": [
       "<div>\n",
       "<table border=\"1\" class=\"dataframe\">\n",
       "  <thead>\n",
       "    <tr style=\"text-align: right;\">\n",
       "      <th></th>\n",
       "      <th>Filename</th>\n",
       "      <th>ID</th>\n",
       "      <th>Text</th>\n",
       "      <th>Word Count</th>\n",
       "      <th>Keywords</th>\n",
       "    </tr>\n",
       "  </thead>\n",
       "  <tbody>\n",
       "    <tr>\n",
       "      <th>0</th>\n",
       "      <td>table_export_DATA44e8cdc0-0159-1000-8001-c0a80...</td>\n",
       "      <td>[DH_AC605550710_1500, DH_AC605550710_1527, DH_...</td>\n",
       "      <td>primary, malignant neoplasm of prostate. secon...</td>\n",
       "      <td>[5, 6, 5]</td>\n",
       "      <td>[(anemia, [0.387150955162]), (iron deficiency,...</td>\n",
       "    </tr>\n",
       "    <tr>\n",
       "      <th>1</th>\n",
       "      <td>table_export_DATA44e8d2c1-0159-1000-8002-c0a80...</td>\n",
       "      <td>[DH_MC876686273_17]</td>\n",
       "      <td>primary, stage ii, malignant neoplasm of recto...</td>\n",
       "      <td>[8]</td>\n",
       "      <td>[(malignant neoplasm, [0.513105137814]), (stag...</td>\n",
       "    </tr>\n",
       "    <tr>\n",
       "      <th>2</th>\n",
       "      <td>table_export_DATA44e8d4a6-0159-1000-8003-c0a80...</td>\n",
       "      <td>[DH_Cb671607614_1393, DH_DK39300751_1651, MH_D...</td>\n",
       "      <td>primary, malign neoplasm ovarian. secondary, e...</td>\n",
       "      <td>[4, 5, 6, 6]</td>\n",
       "      <td>[(oxycontin, [0.35150151853]), (tablet, [0.303...</td>\n",
       "    </tr>\n",
       "    <tr>\n",
       "      <th>3</th>\n",
       "      <td>table_export_DATA44e8d665-0159-1000-8004-c0a80...</td>\n",
       "      <td>[DH_KP69546999_1216]</td>\n",
       "      <td>primary, unspecified lump in breast</td>\n",
       "      <td>[5]</td>\n",
       "      <td>[(unspecified lump, [0.581000554075]), (breast...</td>\n",
       "    </tr>\n",
       "    <tr>\n",
       "      <th>4</th>\n",
       "      <td>table_export_DATA44e8d742-0159-1000-8005-c0a80...</td>\n",
       "      <td>[DH_AC112325761_833, Reason For Visit]</td>\n",
       "      <td>secondary, enlarged lymph nodes, unspecified. ...</td>\n",
       "      <td>[5, 11]</td>\n",
       "      <td>[(nodes, [0.426202115995]), (unspecified, [0.3...</td>\n",
       "    </tr>\n",
       "  </tbody>\n",
       "</table>\n",
       "</div>"
      ],
      "text/plain": [
       "                                            Filename  \\\n",
       "0  table_export_DATA44e8cdc0-0159-1000-8001-c0a80...   \n",
       "1  table_export_DATA44e8d2c1-0159-1000-8002-c0a80...   \n",
       "2  table_export_DATA44e8d4a6-0159-1000-8003-c0a80...   \n",
       "3  table_export_DATA44e8d665-0159-1000-8004-c0a80...   \n",
       "4  table_export_DATA44e8d742-0159-1000-8005-c0a80...   \n",
       "\n",
       "                                                  ID  \\\n",
       "0  [DH_AC605550710_1500, DH_AC605550710_1527, DH_...   \n",
       "1                                [DH_MC876686273_17]   \n",
       "2  [DH_Cb671607614_1393, DH_DK39300751_1651, MH_D...   \n",
       "3                               [DH_KP69546999_1216]   \n",
       "4             [DH_AC112325761_833, Reason For Visit]   \n",
       "\n",
       "                                                Text    Word Count  \\\n",
       "0  primary, malignant neoplasm of prostate. secon...     [5, 6, 5]   \n",
       "1  primary, stage ii, malignant neoplasm of recto...           [8]   \n",
       "2  primary, malign neoplasm ovarian. secondary, e...  [4, 5, 6, 6]   \n",
       "3                primary, unspecified lump in breast           [5]   \n",
       "4  secondary, enlarged lymph nodes, unspecified. ...       [5, 11]   \n",
       "\n",
       "                                            Keywords  \n",
       "0  [(anemia, [0.387150955162]), (iron deficiency,...  \n",
       "1  [(malignant neoplasm, [0.513105137814]), (stag...  \n",
       "2  [(oxycontin, [0.35150151853]), (tablet, [0.303...  \n",
       "3  [(unspecified lump, [0.581000554075]), (breast...  \n",
       "4  [(nodes, [0.426202115995]), (unspecified, [0.3...  "
      ]
     },
     "execution_count": 26,
     "metadata": {},
     "output_type": "execute_result"
    }
   ],
   "source": [
    "df_text_keyword.head()"
   ]
  },
  {
   "cell_type": "code",
   "execution_count": 29,
   "metadata": {
    "collapsed": false
   },
   "outputs": [
    {
     "data": {
      "text/plain": [
       "([(u'oxycontin', array([ 0.35150152])),\n",
       "  (u'tablet', array([ 0.30324843])),\n",
       "  (u'ovarian', array([ 0.2901983])),\n",
       "  (u'encounter', array([ 0.28181717])),\n",
       "  (u'malign neoplasm', array([ 0.26535609])),\n",
       "  (u'resistant', array([ 0.25573098])),\n",
       "  (u'release', array([ 0.25573098])),\n",
       "  (u'antineoplastic', array([ 0.22576577]))],\n",
       " u'primary, malign neoplasm ovarian. secondary, encounter for antineoplastic chemotherapy. oxycontin 20 mg tablet,crush resistant,extended release. oxycontin 30 mg tablet,crush resistant,extended release')"
      ]
     },
     "execution_count": 29,
     "metadata": {},
     "output_type": "execute_result"
    }
   ],
   "source": [
    "pippo = 2\n",
    "df_text_keyword.Keywords[pippo], df_text_keyword[\"Text\"].ix[pippo]"
   ]
  },
  {
   "cell_type": "code",
   "execution_count": null,
   "metadata": {
    "collapsed": false
   },
   "outputs": [],
   "source": [
    "df_text_keyword_grouped = df_text_keyword.groupby(df_text_keyword[groupbyID]).agg(lambda x: x.tolist())\n",
    "df_text_keyword_grouped[\"ID\"] = df_text_keyword_grouped[\"ID\"].apply(lambda x: [item for sublist in x for item in sublist])\n",
    "df_text_keyword_grouped[\"Keywords\"] = df_text_keyword_grouped[\"Keywords\"].apply(lambda x: [item for sublist in x for item in sublist])"
   ]
  },
  {
   "cell_type": "markdown",
   "metadata": {},
   "source": [
    "## Merging keywords and filtered Tag"
   ]
  },
  {
   "cell_type": "code",
   "execution_count": null,
   "metadata": {
    "collapsed": false
   },
   "outputs": [],
   "source": [
    "df_text_keyword_grouped.head()"
   ]
  },
  {
   "cell_type": "code",
   "execution_count": null,
   "metadata": {
    "collapsed": false
   },
   "outputs": [],
   "source": [
    "df_text_pos_grouped.head()"
   ]
  },
  {
   "cell_type": "code",
   "execution_count": null,
   "metadata": {
    "collapsed": true
   },
   "outputs": [],
   "source": [
    "df_text_pos_keywords = pd.concat([df_text_keyword_grouped, df_text_pos_grouped[\"Filtered Text\"]], axis=1)"
   ]
  },
  {
   "cell_type": "code",
   "execution_count": null,
   "metadata": {
    "collapsed": false
   },
   "outputs": [],
   "source": [
    "df_text_pos_keywords.head()"
   ]
  },
  {
   "cell_type": "markdown",
   "metadata": {},
   "source": [
    "## Exporting df grouped short to csv"
   ]
  },
  {
   "cell_type": "code",
   "execution_count": null,
   "metadata": {
    "collapsed": false
   },
   "outputs": [],
   "source": [
    "output_filename = \"/Users/cavaste/GoogleDriveCGnal/Projects/Dedalus/grouped_docs_keywords_ratio\" + str(ratio_value) + \"thrLength\" + str(lengthText_thr) + \".csv\"\n",
    "df_text_pos_keywords.to_csv(path_or_buf = output_filename, sep=';',\n",
    "                               index=False,\n",
    "                               encoding=\"utf8\")"
   ]
  },
  {
   "cell_type": "code",
   "execution_count": null,
   "metadata": {
    "collapsed": true
   },
   "outputs": [],
   "source": []
  },
  {
   "cell_type": "code",
   "execution_count": null,
   "metadata": {
    "collapsed": true
   },
   "outputs": [],
   "source": [
    "def replace_with_separator(text, separator, regexs):\n",
    "    replacement = r\"\\1\" + separator + r\"\\2\"\n",
    "    result = text\n",
    "    for regex in regexs:\n",
    "        result = regex.sub(replacement, result)\n",
    "    return result"
   ]
  },
  {
   "cell_type": "code",
   "execution_count": null,
   "metadata": {
    "collapsed": false
   },
   "outputs": [],
   "source": [
    "import re\n",
    "PAT_ALPHABETIC = re.compile('(((?![\\d])\\w)+)', re.UNICODE)"
   ]
  },
  {
   "cell_type": "code",
   "execution_count": null,
   "metadata": {
    "collapsed": true
   },
   "outputs": [],
   "source": [
    "text = \"pippo, andava sembre molto velocemente. Un giorno si schianta, ahi che dolore! disse\\n molto mi sono interrogato\\n su cio\""
   ]
  },
  {
   "cell_type": "code",
   "execution_count": null,
   "metadata": {
    "collapsed": false
   },
   "outputs": [],
   "source": [
    "AB_ACRONYM_LETTERS = re.compile(\"([a-zA-Z])\\.([a-zA-Z])\\.\", re.UNICODE)"
   ]
  },
  {
   "cell_type": "code",
   "execution_count": null,
   "metadata": {
    "collapsed": false
   },
   "outputs": [],
   "source": [
    "from gensim.utils import to_unicode\n",
    "text = to_unicode(text)\n",
    "text_without_acronyms = replace_with_separator(text, \"\", [AB_ACRONYM_LETTERS])"
   ]
  },
  {
   "cell_type": "code",
   "execution_count": null,
   "metadata": {
    "collapsed": false
   },
   "outputs": [],
   "source": [
    "for match in PAT_ALPHABETIC.finditer(text_without_acronyms): # tiene solo parole, butta via punteggiatura\n",
    "    print(match.group())"
   ]
  },
  {
   "cell_type": "code",
   "execution_count": null,
   "metadata": {
    "collapsed": true
   },
   "outputs": [],
   "source": []
  }
 ],
 "metadata": {
  "kernelspec": {
   "display_name": "Python 2",
   "language": "python",
   "name": "python2"
  },
  "language_info": {
   "codemirror_mode": {
    "name": "ipython",
    "version": 2
   },
   "file_extension": ".py",
   "mimetype": "text/x-python",
   "name": "python",
   "nbconvert_exporter": "python",
   "pygments_lexer": "ipython2",
   "version": "2.7.12"
  }
 },
 "nbformat": 4,
 "nbformat_minor": 0
}
