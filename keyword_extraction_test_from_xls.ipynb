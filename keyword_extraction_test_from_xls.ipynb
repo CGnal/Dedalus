{
 "cells": [
  {
   "cell_type": "code",
   "execution_count": 1,
   "metadata": {
    "collapsed": true
   },
   "outputs": [],
   "source": [
    "from glob import glob\n",
    "from bs4 import BeautifulSoup\n",
    "import os\n",
    "import numpy as np; import pandas as pd"
   ]
  },
  {
   "cell_type": "markdown",
   "metadata": {},
   "source": [
    "## PARSING XML FILE\n",
    "### Read DOC filenames"
   ]
  },
  {
   "cell_type": "raw",
   "metadata": {
    "collapsed": false
   },
   "source": [
    "doc_dir_path = \"/Users/cavaste/GoogleDriveCGnal/Projects/Dedalus/100 cda vias/\"\n",
    "filenames = glob(os.path.join(doc_dir_path,'*.ldr'))"
   ]
  },
  {
   "cell_type": "raw",
   "metadata": {
    "collapsed": false
   },
   "source": [
    "soup = BeautifulSoup(open(\"/Users/cavaste/GoogleDriveCGnal/Projects/Dedalus/100 cda vias/table_export_DATA44e8de94-0159-1000-8007-c0a80a0a809c.ldr\"), \"lxml\")\n",
    "pageText = soup.get_text(separator=\" \")\n",
    "docText = pageText.replace(\"\\n\",\" \")\n",
    "docText = docText.replace(\"\\n\",\" \")\n",
    "docText = docText.replace(\"\\r\",\" \")\n",
    "docText = docText.replace(\"\\t\",\" \")\n",
    "docText = docText.replace(\"*\",\" \")\n",
    "docText = docText.replace(\"%\",\" \")\n",
    "docText"
   ]
  },
  {
   "cell_type": "markdown",
   "metadata": {},
   "source": [
    "### parsing all text from each xml "
   ]
  },
  {
   "cell_type": "raw",
   "metadata": {
    "collapsed": false
   },
   "source": [
    "docs = []\n",
    "for fname in filenames:\n",
    "    soup = BeautifulSoup(open(fname), \"lxml\")\n",
    "    pageText = soup.get_text(separator=\" \")\n",
    "    docText = pageText.replace(\"\\n\",\" \")\n",
    "    docText = docText.replace(\"\\n\",\" \")\n",
    "    docText = docText.replace(\"\\r\",\" \")\n",
    "    docText = docText.replace(\"\\t\",\" \")\n",
    "    docText = docText.replace(\"*\",\" \")\n",
    "    docText = docText.replace(\"%\",\" \")\n",
    "    docs.append(docText)"
   ]
  },
  {
   "cell_type": "markdown",
   "metadata": {},
   "source": [
    "## Reading xlsx with text examples"
   ]
  },
  {
   "cell_type": "code",
   "execution_count": 2,
   "metadata": {
    "collapsed": false
   },
   "outputs": [
    {
     "data": {
      "text/html": [
       "<div>\n",
       "<table border=\"1\" class=\"dataframe\">\n",
       "  <thead>\n",
       "    <tr style=\"text-align: right;\">\n",
       "      <th></th>\n",
       "      <th>Filename</th>\n",
       "      <th>ID</th>\n",
       "      <th>Text</th>\n",
       "    </tr>\n",
       "  </thead>\n",
       "  <tbody>\n",
       "    <tr>\n",
       "      <th>0</th>\n",
       "      <td>table_export_DATA44e8cdc0-0159-1000-8001-c0a80...</td>\n",
       "      <td>DH_AC605550710_1500</td>\n",
       "      <td>Primary, Malignant neoplasm of prostate</td>\n",
       "    </tr>\n",
       "    <tr>\n",
       "      <th>1</th>\n",
       "      <td>table_export_DATA44e8cdc0-0159-1000-8001-c0a80...</td>\n",
       "      <td>DH_AC605550710_1527</td>\n",
       "      <td>Secondary, Anemia in chronic kidney disease</td>\n",
       "    </tr>\n",
       "    <tr>\n",
       "      <th>2</th>\n",
       "      <td>table_export_DATA44e8cdc0-0159-1000-8001-c0a80...</td>\n",
       "      <td>DH_AC605550710_1521</td>\n",
       "      <td>Secondary, Iron deficiency anemia, unspecified</td>\n",
       "    </tr>\n",
       "    <tr>\n",
       "      <th>3</th>\n",
       "      <td>table_export_DATA44e8d2c1-0159-1000-8002-c0a80...</td>\n",
       "      <td>DH_MC876686273_17</td>\n",
       "      <td>Primary, Stage II, Malignant neoplasm of recto...</td>\n",
       "    </tr>\n",
       "    <tr>\n",
       "      <th>4</th>\n",
       "      <td>table_export_DATA44e8d4a6-0159-1000-8003-c0a80...</td>\n",
       "      <td>DH_Cb671607614_1393</td>\n",
       "      <td>Primary, Malign Neoplasm Ovarian</td>\n",
       "    </tr>\n",
       "  </tbody>\n",
       "</table>\n",
       "</div>"
      ],
      "text/plain": [
       "                                            Filename                   ID  \\\n",
       "0  table_export_DATA44e8cdc0-0159-1000-8001-c0a80...  DH_AC605550710_1500   \n",
       "1  table_export_DATA44e8cdc0-0159-1000-8001-c0a80...  DH_AC605550710_1527   \n",
       "2  table_export_DATA44e8cdc0-0159-1000-8001-c0a80...  DH_AC605550710_1521   \n",
       "3  table_export_DATA44e8d2c1-0159-1000-8002-c0a80...    DH_MC876686273_17   \n",
       "4  table_export_DATA44e8d4a6-0159-1000-8003-c0a80...  DH_Cb671607614_1393   \n",
       "\n",
       "                                                Text  \n",
       "0            Primary, Malignant neoplasm of prostate  \n",
       "1        Secondary, Anemia in chronic kidney disease  \n",
       "2     Secondary, Iron deficiency anemia, unspecified  \n",
       "3  Primary, Stage II, Malignant neoplasm of recto...  \n",
       "4                   Primary, Malign Neoplasm Ovarian  "
      ]
     },
     "execution_count": 2,
     "metadata": {},
     "output_type": "execute_result"
    }
   ],
   "source": [
    "#df_keys = pd.DataFrame(columns=('filename', 'text', 'keywords'))\n",
    "fname = \"/Users/cavaste/GoogleDriveCGnal/Projects/Dedalus/dedalus_text_sample_used.xlsx\"\n",
    "\n",
    "df_text_keyw = pd.read_excel(fname, thousands = ',', parse_cols = 'A:C')\n",
    "df_text_keyw.head()"
   ]
  },
  {
   "cell_type": "code",
   "execution_count": 3,
   "metadata": {
    "collapsed": true
   },
   "outputs": [],
   "source": [
    "from sklearn.feature_extraction import stop_words\n",
    "stopwords_ = set(stop_words.ENGLISH_STOP_WORDS)\n",
    "\n",
    "from nltk.corpus import stopwords\n",
    "\n",
    "stopwords_.update(stopwords.words('english'))\n",
    "stopwords_.update(stopwords.words('italian'))"
   ]
  },
  {
   "cell_type": "code",
   "execution_count": 4,
   "metadata": {
    "collapsed": true
   },
   "outputs": [],
   "source": [
    "df_text_keyw[\"Text\"] = df_text_keyw[\"Text\"].apply(lambda x: x.lower())"
   ]
  },
  {
   "cell_type": "markdown",
   "metadata": {},
   "source": [
    "### Counting the number of words in each text"
   ]
  },
  {
   "cell_type": "code",
   "execution_count": 5,
   "metadata": {
    "collapsed": false
   },
   "outputs": [],
   "source": [
    "df_text_keyw.insert(3, \"Word Count\", df_text_keyw[\"Text\"].apply(lambda x: len(x.split())))"
   ]
  },
  {
   "cell_type": "markdown",
   "metadata": {},
   "source": [
    "### Keyword extraction from each text by using graph"
   ]
  },
  {
   "cell_type": "code",
   "execution_count": 6,
   "metadata": {
    "collapsed": false
   },
   "outputs": [],
   "source": [
    "from gensim.summarization import keywords\n",
    "ratio_value = 0.9\n",
    "\n",
    "keys_list = []\n",
    "\n",
    "for i,doc in enumerate(df_text_keyw[\"Text\"]):\n",
    "#    print(i)\n",
    "#    print(doc)\n",
    "    keys = keywords(doc,\n",
    "                    split=False,\n",
    "                    ratio=ratio_value,\n",
    "                    scores=True,\n",
    "                    lemmatize=False)#,\n",
    "                    #pos_filter=['NN','JJ','NNS','NNP','NNPS'])\n",
    "    \n",
    "    keys = [key for key in keys if key[0] not in stopwords_][:30]    \n",
    "    keys_list.append(keys) "
   ]
  },
  {
   "cell_type": "code",
   "execution_count": 7,
   "metadata": {
    "collapsed": false
   },
   "outputs": [],
   "source": [
    "df_text_keyw.insert(4,\"Keywords Raw Text\",keys_list)# = [filenames[i], doc, keys] "
   ]
  },
  {
   "cell_type": "markdown",
   "metadata": {},
   "source": [
    "### POS tagging"
   ]
  },
  {
   "cell_type": "code",
   "execution_count": 8,
   "metadata": {
    "collapsed": false
   },
   "outputs": [],
   "source": [
    "import nltk\n",
    "df_text_keyw.insert(5, \"POStagged Text\", df_text_keyw[\"Text\"].apply(lambda x: nltk.pos_tag(nltk.word_tokenize(x))))"
   ]
  },
  {
   "cell_type": "code",
   "execution_count": 9,
   "metadata": {
    "collapsed": false
   },
   "outputs": [],
   "source": [
    "pos_filter=['FW','RB','JJ','NN','NNS','NNP','NNPS']\n",
    "df_text_keyw.insert(6, \"Filtered Text\", df_text_keyw[\"POStagged Text\"].\n",
    "                    apply(lambda x: [word[0] for word in x if word[1] in pos_filter]))"
   ]
  },
  {
   "cell_type": "code",
   "execution_count": 10,
   "metadata": {
    "collapsed": false
   },
   "outputs": [
    {
     "data": {
      "text/plain": [
       "0              [primary, malignant, neoplasm, prostate]\n",
       "1         [secondary, anemia, chronic, kidney, disease]\n",
       "2     [secondary, iron, deficiency, anemia, unspecif...\n",
       "3     [primary, stage, ii, malignant, neoplasm, rect...\n",
       "4                  [primary, malign, neoplasm, ovarian]\n",
       "5     [secondary, encounter, antineoplastic, chemoth...\n",
       "6           [20, mg, tablet, crush, resistant, release]\n",
       "7           [30, mg, tablet, crush, resistant, release]\n",
       "8                  [primary, unspecified, lump, breast]\n",
       "9                [secondary, lymph, nodes, unspecified]\n",
       "10    [helicobacter, pylori, [, h., pylori, ], cause...\n",
       "11          [primary, coagulation, defect, unspecified]\n",
       "12    [primary, cerebral, infarction, due, unspecifi...\n",
       "13    [secondary, iron, deficiency, anemia, unspecif...\n",
       "14    [primary, stage, iiib, malignant, neoplasm, co...\n",
       "15         [smil, ct, thorax, abd/pelv, tith, contrast]\n",
       "16    [primary, malignant, neoplasm, right, main, br...\n",
       "17    [amitriptyline, hcl, 50mg, oral, tablet, histo...\n",
       "18    [lamotrigine, 150mg, oral, tablet, historical,...\n",
       "19    [metronidazole, 500mg, oral, tablet, historica...\n",
       "20    [hemorrhoids, patient, long, history, hemorrho...\n",
       "21                               [postoperative, visit]\n",
       "22                [small, bowel, obstruction, 2, weeks]\n",
       "23    [postop, check, patient, information, follow-u...\n",
       "24    [advanced, directive, health, history, effecti...\n",
       "25    [*post-operative, 65-year-old, female, underwe...\n",
       "26    [[, additional, reason, ], transition, care, p...\n",
       "27                             [acute, abdominal, pain]\n",
       "28                                 [chronic, rlq, pain]\n",
       "29    [primary, diffuse, follicle, center, lymphoma,...\n",
       "                            ...                        \n",
       "35    [primary, essential, hemorrhagic, thrombocythe...\n",
       "36    [primary, stage, ivb, malignant, neoplasm, hyp...\n",
       "37    [secondary, agranulocytosis, secondary, cancer...\n",
       "38             [secondary, encounter, other, aftercare]\n",
       "39    [secondary, iron, deficiency, anemia, unspecif...\n",
       "40    [secondary, anemia, due, antineoplastic, chemo...\n",
       "41      [head, neck, pharynx, hypopharynx, cancer, ivb]\n",
       "42    [primary, stage, iv, malignant, neoplasm, body...\n",
       "43                    [sulfa, sulfonamide, antibiotics]\n",
       "44           [secondary, thrombocytopenia, unspecified]\n",
       "45    [primary, myelodysplastic, syndrome, unspecified]\n",
       "46         [secondary, anemia, other, chronic, illness]\n",
       "47                    [primary, monoclonal, gammopathy]\n",
       "48         [primary, multiple, myeloma, w/o, remission]\n",
       "49             [secondary, vitamin, d, deficiency, nos]\n",
       "50               [secondary, chemotherapy, convalescen]\n",
       "51    [breast, mass, right, phone, several, days, of...\n",
       "52    [breast, lump, ms., pruznak, pleasant, 21, yea...\n",
       "53         [[, additional, reason, ], transition, care]\n",
       "54    [mr, herbert, followup, hemorrhoids, pruritus,...\n",
       "55    [[, additional, reason, ], transition, care, p...\n",
       "56         [hemorrhoid, banding, internal, hemorrhoids]\n",
       "57                             [x3, office, today, prn]\n",
       "58    [advanced, directive, health, history, effecti...\n",
       "59    [mr, herbert, followup, hemorrhoids, pruritus,...\n",
       "60                       [pertinent, surgical, history]\n",
       "61    [patient, position, sitting, cuff, location, l...\n",
       "62    [post-operative, 56-year-old, female, status, ...\n",
       "63    [primary, stage, ia, malign, neoplasm, breast,...\n",
       "64    [secondary, encounter, antineoplastic, chemoth...\n",
       "Name: Filtered Text, dtype: object"
      ]
     },
     "execution_count": 10,
     "metadata": {},
     "output_type": "execute_result"
    }
   ],
   "source": [
    "df_text_keyw[\"Filtered Text\"]"
   ]
  },
  {
   "cell_type": "markdown",
   "metadata": {},
   "source": [
    "## Exporting df to csv"
   ]
  },
  {
   "cell_type": "code",
   "execution_count": 11,
   "metadata": {
    "collapsed": false
   },
   "outputs": [],
   "source": [
    "output_filename = \"/Users/cavaste/GoogleDriveCGnal/Projects/Dedalus/docs_keywords_ratio\"+str(ratio_value)+\".csv\"\n",
    "df_text_keyw.to_csv(path_or_buf = output_filename, sep=',',\n",
    "                    index=False,\n",
    "                    encoding=\"utf8\")"
   ]
  },
  {
   "cell_type": "markdown",
   "metadata": {},
   "source": [
    "### Selecting short texts"
   ]
  },
  {
   "cell_type": "code",
   "execution_count": 19,
   "metadata": {
    "collapsed": false
   },
   "outputs": [],
   "source": [
    "df_text_short = df_text_keyw[df_text_keyw[\"Word Count\"] < 25]"
   ]
  },
  {
   "cell_type": "markdown",
   "metadata": {},
   "source": [
    "### Aggregating short texts"
   ]
  },
  {
   "cell_type": "code",
   "execution_count": 20,
   "metadata": {
    "collapsed": false
   },
   "outputs": [],
   "source": [
    "df_text_short_grouped = df_text_short.groupby(df_text_short[\"Filename\"]).agg(lambda x: x.tolist())"
   ]
  },
  {
   "cell_type": "code",
   "execution_count": 21,
   "metadata": {
    "collapsed": false
   },
   "outputs": [
    {
     "data": {
      "text/html": [
       "<div>\n",
       "<table border=\"1\" class=\"dataframe\">\n",
       "  <thead>\n",
       "    <tr style=\"text-align: right;\">\n",
       "      <th></th>\n",
       "      <th>ID</th>\n",
       "      <th>Text</th>\n",
       "      <th>Word Count</th>\n",
       "      <th>Keywords Raw Text</th>\n",
       "      <th>POStagged Text</th>\n",
       "      <th>Filtered Text</th>\n",
       "    </tr>\n",
       "    <tr>\n",
       "      <th>Filename</th>\n",
       "      <th></th>\n",
       "      <th></th>\n",
       "      <th></th>\n",
       "      <th></th>\n",
       "      <th></th>\n",
       "      <th></th>\n",
       "    </tr>\n",
       "  </thead>\n",
       "  <tbody>\n",
       "    <tr>\n",
       "      <th>table_export_DATA44e8cdc0-0159-1000-8001-c0a80a0a809c.ldr</th>\n",
       "      <td>[DH_AC605550710_1500, DH_AC605550710_1527, DH_...</td>\n",
       "      <td>[primary, malignant neoplasm of prostate, seco...</td>\n",
       "      <td>[5, 6, 5]</td>\n",
       "      <td>[[(primary malignant, [ 0.6121701])], [(chroni...</td>\n",
       "      <td>[[(primary, JJ), (,, ,), (malignant, JJ), (neo...</td>\n",
       "      <td>[[primary, malignant, neoplasm, prostate], [se...</td>\n",
       "    </tr>\n",
       "    <tr>\n",
       "      <th>table_export_DATA44e8d2c1-0159-1000-8002-c0a80a0a809c.ldr</th>\n",
       "      <td>[DH_MC876686273_17]</td>\n",
       "      <td>[primary, stage ii, malignant neoplasm of rect...</td>\n",
       "      <td>[8]</td>\n",
       "      <td>[[(primary stage, [ 0.40824829]), (malignant n...</td>\n",
       "      <td>[[(primary, JJ), (,, ,), (stage, NN), (ii, NN)...</td>\n",
       "      <td>[[primary, stage, ii, malignant, neoplasm, rec...</td>\n",
       "    </tr>\n",
       "    <tr>\n",
       "      <th>table_export_DATA44e8d4a6-0159-1000-8003-c0a80a0a809c.ldr</th>\n",
       "      <td>[DH_Cb671607614_1393, DH_DK39300751_1651, MH_D...</td>\n",
       "      <td>[primary, malign neoplasm ovarian, secondary, ...</td>\n",
       "      <td>[4, 5, 6, 6]</td>\n",
       "      <td>[[(primary malign neoplasm, [ 0.52677807])], [...</td>\n",
       "      <td>[[(primary, JJ), (,, ,), (malign, JJ), (neopla...</td>\n",
       "      <td>[[primary, malign, neoplasm, ovarian], [second...</td>\n",
       "    </tr>\n",
       "    <tr>\n",
       "      <th>table_export_DATA44e8d665-0159-1000-8004-c0a80a0a809c.ldr</th>\n",
       "      <td>[DH_KP69546999_1216]</td>\n",
       "      <td>[primary, unspecified lump in breast]</td>\n",
       "      <td>[5]</td>\n",
       "      <td>[[(primary unspecified, [ 0.6121701])]]</td>\n",
       "      <td>[[(primary, JJ), (,, ,), (unspecified, JJ), (l...</td>\n",
       "      <td>[[primary, unspecified, lump, breast]]</td>\n",
       "    </tr>\n",
       "    <tr>\n",
       "      <th>table_export_DATA44e8d742-0159-1000-8005-c0a80a0a809c.ldr</th>\n",
       "      <td>[DH_AC112325761_833, Reason For Visit]</td>\n",
       "      <td>[secondary, enlarged lymph nodes, unspecified,...</td>\n",
       "      <td>[5, 11]</td>\n",
       "      <td>[[(nodes, [ 0.5312606]), (secondary enlarged l...</td>\n",
       "      <td>[[(secondary, JJ), (,, ,), (enlarged, VBD), (l...</td>\n",
       "      <td>[[secondary, lymph, nodes, unspecified], [heli...</td>\n",
       "    </tr>\n",
       "  </tbody>\n",
       "</table>\n",
       "</div>"
      ],
      "text/plain": [
       "                                                                                                   ID  \\\n",
       "Filename                                                                                                \n",
       "table_export_DATA44e8cdc0-0159-1000-8001-c0a80a...  [DH_AC605550710_1500, DH_AC605550710_1527, DH_...   \n",
       "table_export_DATA44e8d2c1-0159-1000-8002-c0a80a...                                [DH_MC876686273_17]   \n",
       "table_export_DATA44e8d4a6-0159-1000-8003-c0a80a...  [DH_Cb671607614_1393, DH_DK39300751_1651, MH_D...   \n",
       "table_export_DATA44e8d665-0159-1000-8004-c0a80a...                               [DH_KP69546999_1216]   \n",
       "table_export_DATA44e8d742-0159-1000-8005-c0a80a...             [DH_AC112325761_833, Reason For Visit]   \n",
       "\n",
       "                                                                                                 Text  \\\n",
       "Filename                                                                                                \n",
       "table_export_DATA44e8cdc0-0159-1000-8001-c0a80a...  [primary, malignant neoplasm of prostate, seco...   \n",
       "table_export_DATA44e8d2c1-0159-1000-8002-c0a80a...  [primary, stage ii, malignant neoplasm of rect...   \n",
       "table_export_DATA44e8d4a6-0159-1000-8003-c0a80a...  [primary, malign neoplasm ovarian, secondary, ...   \n",
       "table_export_DATA44e8d665-0159-1000-8004-c0a80a...              [primary, unspecified lump in breast]   \n",
       "table_export_DATA44e8d742-0159-1000-8005-c0a80a...  [secondary, enlarged lymph nodes, unspecified,...   \n",
       "\n",
       "                                                      Word Count  \\\n",
       "Filename                                                           \n",
       "table_export_DATA44e8cdc0-0159-1000-8001-c0a80a...     [5, 6, 5]   \n",
       "table_export_DATA44e8d2c1-0159-1000-8002-c0a80a...           [8]   \n",
       "table_export_DATA44e8d4a6-0159-1000-8003-c0a80a...  [4, 5, 6, 6]   \n",
       "table_export_DATA44e8d665-0159-1000-8004-c0a80a...           [5]   \n",
       "table_export_DATA44e8d742-0159-1000-8005-c0a80a...       [5, 11]   \n",
       "\n",
       "                                                                                    Keywords Raw Text  \\\n",
       "Filename                                                                                                \n",
       "table_export_DATA44e8cdc0-0159-1000-8001-c0a80a...  [[(primary malignant, [ 0.6121701])], [(chroni...   \n",
       "table_export_DATA44e8d2c1-0159-1000-8002-c0a80a...  [[(primary stage, [ 0.40824829]), (malignant n...   \n",
       "table_export_DATA44e8d4a6-0159-1000-8003-c0a80a...  [[(primary malign neoplasm, [ 0.52677807])], [...   \n",
       "table_export_DATA44e8d665-0159-1000-8004-c0a80a...            [[(primary unspecified, [ 0.6121701])]]   \n",
       "table_export_DATA44e8d742-0159-1000-8005-c0a80a...  [[(nodes, [ 0.5312606]), (secondary enlarged l...   \n",
       "\n",
       "                                                                                       POStagged Text  \\\n",
       "Filename                                                                                                \n",
       "table_export_DATA44e8cdc0-0159-1000-8001-c0a80a...  [[(primary, JJ), (,, ,), (malignant, JJ), (neo...   \n",
       "table_export_DATA44e8d2c1-0159-1000-8002-c0a80a...  [[(primary, JJ), (,, ,), (stage, NN), (ii, NN)...   \n",
       "table_export_DATA44e8d4a6-0159-1000-8003-c0a80a...  [[(primary, JJ), (,, ,), (malign, JJ), (neopla...   \n",
       "table_export_DATA44e8d665-0159-1000-8004-c0a80a...  [[(primary, JJ), (,, ,), (unspecified, JJ), (l...   \n",
       "table_export_DATA44e8d742-0159-1000-8005-c0a80a...  [[(secondary, JJ), (,, ,), (enlarged, VBD), (l...   \n",
       "\n",
       "                                                                                        Filtered Text  \n",
       "Filename                                                                                               \n",
       "table_export_DATA44e8cdc0-0159-1000-8001-c0a80a...  [[primary, malignant, neoplasm, prostate], [se...  \n",
       "table_export_DATA44e8d2c1-0159-1000-8002-c0a80a...  [[primary, stage, ii, malignant, neoplasm, rec...  \n",
       "table_export_DATA44e8d4a6-0159-1000-8003-c0a80a...  [[primary, malign, neoplasm, ovarian], [second...  \n",
       "table_export_DATA44e8d665-0159-1000-8004-c0a80a...             [[primary, unspecified, lump, breast]]  \n",
       "table_export_DATA44e8d742-0159-1000-8005-c0a80a...  [[secondary, lymph, nodes, unspecified], [heli...  "
      ]
     },
     "execution_count": 21,
     "metadata": {},
     "output_type": "execute_result"
    }
   ],
   "source": [
    "df_text_short_grouped.head()"
   ]
  },
  {
   "cell_type": "code",
   "execution_count": 22,
   "metadata": {
    "collapsed": false
   },
   "outputs": [],
   "source": [
    "df_text_short_grouped[\"Text\"] = df_text_short_grouped[\"Text\"].apply(lambda x: ' '.join(x).replace(\",\",\"\"))"
   ]
  },
  {
   "cell_type": "code",
   "execution_count": 23,
   "metadata": {
    "collapsed": true
   },
   "outputs": [],
   "source": [
    "keys_list = []\n",
    "\n",
    "for i,doc in enumerate(df_text_short_grouped[\"Text\"]):\n",
    "#    print(i)\n",
    "#    print(doc)\n",
    "    keys = keywords(doc,\n",
    "                    split=False,\n",
    "                    ratio=ratio_value,\n",
    "                    scores=True,\n",
    "                    lemmatize=False)#,\n",
    "                    #pos_filter=['NN','JJ','NNS','NNP','NNPS'])\n",
    "    \n",
    "    keys = [key for key in keys if key[0] not in stopwords_][:30]    \n",
    "    keys_list.append(keys) \n",
    "    "
   ]
  },
  {
   "cell_type": "code",
   "execution_count": 24,
   "metadata": {
    "collapsed": false
   },
   "outputs": [],
   "source": [
    "df_text_short_grouped.insert(3,\"Keywords grouped texts\",keys_list)# = [filenames[i], doc, keys] "
   ]
  },
  {
   "cell_type": "markdown",
   "metadata": {},
   "source": [
    "## Exporting df grouped short to csv"
   ]
  },
  {
   "cell_type": "code",
   "execution_count": 25,
   "metadata": {
    "collapsed": true
   },
   "outputs": [],
   "source": [
    "output_filename = \"/Users/cavaste/GoogleDriveCGnal/Projects/Dedalus/grouped_docs_keywords_ratio\"+str(ratio_value)+\".csv\"\n",
    "df_text_short_grouped.to_csv(path_or_buf = output_filename, sep=';',\n",
    "                             index=False,\n",
    "                             encoding=\"utf8\")"
   ]
  },
  {
   "cell_type": "code",
   "execution_count": null,
   "metadata": {
    "collapsed": true
   },
   "outputs": [],
   "source": []
  }
 ],
 "metadata": {
  "kernelspec": {
   "display_name": "Python 2",
   "language": "python",
   "name": "python2"
  },
  "language_info": {
   "codemirror_mode": {
    "name": "ipython",
    "version": 2
   },
   "file_extension": ".py",
   "mimetype": "text/x-python",
   "name": "python",
   "nbconvert_exporter": "python",
   "pygments_lexer": "ipython2",
   "version": "2.7.12"
  }
 },
 "nbformat": 4,
 "nbformat_minor": 0
}
